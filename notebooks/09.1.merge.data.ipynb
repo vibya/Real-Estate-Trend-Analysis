{
 "cells": [
  {
   "cell_type": "code",
   "execution_count": 1,
   "metadata": {},
   "outputs": [],
   "source": [
    "import pandas as pd\n",
    "import matplotlib.pyplot as plt\n",
    "import numpy as np\n",
    "import os, sys, inspect\n",
    "\n",
    "# add parent dir to system dir\n",
    "currdir = os.path.dirname(os.path.abspath(inspect.getfile(inspect.currentframe())))\n",
    "rootdir = os.path.dirname(currdir)\n",
    "sys.path.insert(0, rootdir)\n",
    "\n",
    "pd.set_option('display.max_colwidth', -1)\n",
    "pd.set_option('display.max_columns', None)"
   ]
  },
  {
   "cell_type": "code",
   "execution_count": 2,
   "metadata": {},
   "outputs": [],
   "source": [
    "ffname_construction = os.path.join(rootdir, \"data\", \"int\", \"Construction_Demographics.csv\")\n",
    "ffname_income = os.path.join(rootdir, \"data\", \"int\", \"median_income_by_zip.csv\")\n",
    "ffname_homeprice = os.path.join(rootdir, \"data\", \"int\", \"1_Output_quandl.csv\")\n",
    "ffname_mort15 = os.path.join(rootdir, \"data\", \"int\", \"15_year_rates.csv\")\n",
    "ffname_mort30 = os.path.join(rootdir, \"data\", \"int\", \"30_year_rates.csv\")\n",
    "ffname_schools = os.path.join(rootdir, \"data\", \"int\", \"great_scools_austin.csv\")\n",
    "ffname_business = os.path.join(rootdir, \"data\", \"int\", \"businesses_by_zip.csv\")\n",
    "ffname_coordinates = os.path.join(rootdir, \"data\", \"int\", \"0_Lat_Long.csv\")\n",
    "\n",
    "construction_df = pd.read_csv(ffname_construction)\n",
    "income_df = pd.read_csv(ffname_income)\n",
    "homeprice_df = pd.read_csv(ffname_homeprice)\n",
    "mortgage_15_df = pd.read_csv(ffname_mort15)\n",
    "mortgage_30_df = pd.read_csv(ffname_mort30)\n",
    "schools_df = pd.read_csv(ffname_schools)\n",
    "business_df = pd.read_csv(ffname_business)\n",
    "coordinates_df = pd.read_csv(ffname_coordinates)"
   ]
  },
  {
   "cell_type": "code",
   "execution_count": 3,
   "metadata": {},
   "outputs": [],
   "source": [
    "construction_df.rename(columns={'OriginalZip': 'Zip Code', 'CalendarYearIssued': 'Year','Issuedmonth': 'Month'}, inplace=True)"
   ]
  },
  {
   "cell_type": "code",
   "execution_count": 4,
   "metadata": {},
   "outputs": [],
   "source": [
    "schools_df.rename(columns={'parentRating':'School Rating (Parent)','gsRating':'School Rating(GS)'}, inplace=True)"
   ]
  },
  {
   "cell_type": "code",
   "execution_count": 5,
   "metadata": {},
   "outputs": [],
   "source": [
    "homeprice_income_df = pd.merge(homeprice_df, income_df, on=[\"Zip Code\",\"Year\",\"Month\"], suffixes=(\"_hp\", \"_inc\"),how='left')"
   ]
  },
  {
   "cell_type": "code",
   "execution_count": 6,
   "metadata": {},
   "outputs": [],
   "source": [
    "construction_homeprice_income_df = pd.merge(\n",
    "    construction_df,homeprice_income_df, on=[\"Zip Code\",\"Year\",\"Month\"], suffixes=(\"_cons\", \"_hpinc\"),how='right')"
   ]
  },
  {
   "cell_type": "code",
   "execution_count": 7,
   "metadata": {},
   "outputs": [],
   "source": [
    "mortgage_15_df.rename(columns={'year': 'Year','month': 'Month'}, inplace=True)\n",
    "mortgage_30_df.rename(columns={'year': 'Year','month': 'Month'}, inplace=True)"
   ]
  },
  {
   "cell_type": "code",
   "execution_count": 8,
   "metadata": {},
   "outputs": [],
   "source": [
    "mortgage_15_30 = pd.merge(mortgage_15_df, mortgage_30_df, on=[\"Year\",\"Month\"], suffixes=(\"_15\", \"_30\"))"
   ]
  },
  {
   "cell_type": "code",
   "execution_count": 9,
   "metadata": {},
   "outputs": [],
   "source": [
    "real_estate_demo_df = pd.merge(\n",
    "    construction_homeprice_income_df,mortgage_15_30, on=[\"Year\",\"Month\"], suffixes=(\"_conshpinc\", \"_mort\"),how='left')"
   ]
  },
  {
   "cell_type": "code",
   "execution_count": 10,
   "metadata": {},
   "outputs": [],
   "source": [
    "real_estate_schools_df = pd.merge(\n",
    "    real_estate_demo_df,schools_df, on=[\"Zip Code\"], suffixes=(\"_REdemo\", \"_school\"),how='left')"
   ]
  },
  {
   "cell_type": "code",
   "execution_count": 11,
   "metadata": {},
   "outputs": [],
   "source": [
    "real_estate_business_df = pd.merge(\n",
    "    real_estate_schools_df,business_df, on=[\"Zip Code\"], suffixes=(\"_REschool\", \"_business\"),how='left')\n",
    "real_estate_business_df.drop([\"Lat\",\"Lng\"], inplace=True, axis=1)"
   ]
  },
  {
   "cell_type": "code",
   "execution_count": 12,
   "metadata": {},
   "outputs": [],
   "source": [
    "real_estate_df = pd.merge(\n",
    "    real_estate_business_df,coordinates_df, on=[\"Zip Code\"], suffixes=(\"_REbusiness\", \"_coordinates\"),how='left')"
   ]
  },
  {
   "cell_type": "code",
   "execution_count": 13,
   "metadata": {},
   "outputs": [],
   "source": [
    "real_estate_df = real_estate_df[[\"Zip Code\",\"Year\",\"Month\",\"Home Value Index\",\"Median Listing Price\",\"Median Listing Price Per sqf\",\"Sales\",\n",
    "                                 \"Median Income (dollars)\",\"Number of Households\",\"School Rating (Parent)\",\"School Rating(GS)\",\"Mortgage Rate_15\",\"Mortgage Rate_30\",\"Total_NewConstructions\",\n",
    "                                 \"Total_RemodelsRepairs\",\"TotalCost_NewConstructions\",\"TotalCost_RemodelRepairs\",\"Bank Count\",\"Liquor Store Count\",\"Wal-Mart Count\",\"Starbucks Count\",\n",
    "                                 \"Target Count\",\"Inventory Measure\",\"Median Price Cut\",\"Median Price of Reduction\",\"Median Rental Price\",\"Latitude\",\"Longitude\"]]"
   ]
  },
  {
   "cell_type": "code",
   "execution_count": 14,
   "metadata": {},
   "outputs": [],
   "source": [
    "real_estate_df = real_estate_df.sort_values(['Zip Code', 'Year','Month'])\n",
    "real_estate_df = real_estate_df.reset_index(drop=True)"
   ]
  },
  {
   "cell_type": "code",
   "execution_count": 15,
   "metadata": {},
   "outputs": [],
   "source": [
    "real_estate_df.to_csv(os.path.join(rootdir, \"data\", \"int\", \"realestate_demographics.csv\"),index=False)"
   ]
  },
  {
   "cell_type": "code",
   "execution_count": null,
   "metadata": {},
   "outputs": [],
   "source": []
  },
  {
   "cell_type": "code",
   "execution_count": null,
   "metadata": {},
   "outputs": [],
   "source": []
  }
 ],
 "metadata": {
  "kernelspec": {
   "display_name": "Python [conda env:PythonData]",
   "language": "python",
   "name": "conda-env-PythonData-py"
  },
  "language_info": {
   "codemirror_mode": {
    "name": "ipython",
    "version": 3
   },
   "file_extension": ".py",
   "mimetype": "text/x-python",
   "name": "python",
   "nbconvert_exporter": "python",
   "pygments_lexer": "ipython3",
   "version": "3.6.4"
  }
 },
 "nbformat": 4,
 "nbformat_minor": 2
}
