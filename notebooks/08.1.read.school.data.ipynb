{
 "cells": [
  {
   "cell_type": "code",
   "execution_count": 1,
   "metadata": {},
   "outputs": [],
   "source": [
    "import pandas as pd\n",
    "import requests\n",
    "import os, sys, inspect\n",
    "import numpy as np\n",
    "import usaddress\n",
    "import matplotlib.pyplot as plt\n",
    "# add parent dir to system dir\n",
    "currdir = os.path.dirname(os.path.abspath(inspect.getfile(inspect.currentframe())))\n",
    "rootdir = os.path.dirname(currdir)\n",
    "sys.path.insert(0, rootdir)\n",
    "\n",
    "from src.gschools import GreatSchoolsApi"
   ]
  },
  {
   "cell_type": "code",
   "execution_count": 2,
   "metadata": {},
   "outputs": [],
   "source": [
    "# init. GreatSchoolsApi instance\n",
    "gsp = GreatSchoolsApi()"
   ]
  },
  {
   "cell_type": "code",
   "execution_count": 3,
   "metadata": {},
   "outputs": [],
   "source": [
    "# get schools in Austin (return type dataframe)\n",
    "state = \"tx\"\n",
    "city = \"austin\"\n",
    "school_type = None\n",
    "school_level = None\n",
    "schools_df = gsp.browse_schools(state, city, school_type, school_level, limit=1000)"
   ]
  },
  {
   "cell_type": "code",
   "execution_count": 4,
   "metadata": {},
   "outputs": [],
   "source": [
    "schools_df[\"Zip Code\"] = ''\n",
    "for i in range(len(schools_df)):\n",
    "    schools_df.iloc[i,23] = list(usaddress.tag(schools_df[\"address\"][i])[0].values())[-1]"
   ]
  },
  {
   "cell_type": "code",
   "execution_count": 5,
   "metadata": {},
   "outputs": [],
   "source": [
    "schools_df[\"parentRating\"].fillna(0.00, inplace=True)\n",
    "schools_df[\"gsRating\"].fillna(0.00, inplace=True)\n",
    "schools_df['parentRating'] = schools_df['parentRating'].apply(pd.to_numeric)\n",
    "schools_df['gsRating'] = schools_df['gsRating'].apply(pd.to_numeric)"
   ]
  },
  {
   "cell_type": "code",
   "execution_count": 20,
   "metadata": {},
   "outputs": [],
   "source": [
    "schools_grpzip = schools_df.groupby(\"Zip Code\")\n",
    "schools_byZip = schools_grpzip.mean().reset_index().round(2)"
   ]
  },
  {
   "cell_type": "code",
   "execution_count": 5,
   "metadata": {},
   "outputs": [],
   "source": [
    "# # get school score (return type dict)\n",
    "# state = \"tx\"\n",
    "# gsid = schools_df[\"gsId\"][0]\n",
    "# school_score = gsp.school_test_score(state, gsid)"
   ]
  },
  {
   "cell_type": "code",
   "execution_count": 8,
   "metadata": {},
   "outputs": [],
   "source": [
    "# # find nearby schools (return type datafarme)\n",
    "# state = \"tx\"\n",
    "# zip = 78703\n",
    "# radius = 1\n",
    "\n",
    "# nearbyschools_df = gsp.nearby_schools(state, zip=zip, radius=radius)"
   ]
  },
  {
   "cell_type": "code",
   "execution_count": 21,
   "metadata": {},
   "outputs": [],
   "source": [
    "# save schools data to csv file\n",
    "fname = f\"great_scools_{city}.csv\"\n",
    "ffname = os.path.join(rootdir, \"data\", \"int\", fname)\n",
    "schools_byZip.to_csv(ffname,index=False)"
   ]
  },
  {
   "cell_type": "code",
   "execution_count": 7,
   "metadata": {},
   "outputs": [
    {
     "data": {
      "text/plain": [
       "(350, 23)"
      ]
     },
     "execution_count": 7,
     "metadata": {},
     "output_type": "execute_result"
    }
   ],
   "source": [
    "schools_df.shape\n"
   ]
  },
  {
   "cell_type": "code",
   "execution_count": 8,
   "metadata": {},
   "outputs": [
    {
     "data": {
      "text/plain": [
       "Index(['gsId', 'name', 'type', 'gradeRange', 'enrollment', 'city', 'state',\n",
       "       'address', 'phone', 'fax', 'website', 'ncesId', 'lat', 'lon',\n",
       "       'overviewLink', 'ratingsLink', 'reviewsLink', 'schoolStatsLink',\n",
       "       'parentRating', 'districtId', 'district', 'districtNCESId', 'gsRating'],\n",
       "      dtype='object')"
      ]
     },
     "execution_count": 8,
     "metadata": {},
     "output_type": "execute_result"
    }
   ],
   "source": [
    "schools_df.columns"
   ]
  },
  {
   "cell_type": "code",
   "execution_count": null,
   "metadata": {},
   "outputs": [],
   "source": []
  }
 ],
 "metadata": {
  "kernelspec": {
   "display_name": "Python [conda env:PythonData]",
   "language": "python",
   "name": "conda-env-PythonData-py"
  },
  "language_info": {
   "codemirror_mode": {
    "name": "ipython",
    "version": 3
   },
   "file_extension": ".py",
   "mimetype": "text/x-python",
   "name": "python",
   "nbconvert_exporter": "python",
   "pygments_lexer": "ipython3",
   "version": "3.6.4"
  }
 },
 "nbformat": 4,
 "nbformat_minor": 2
}
