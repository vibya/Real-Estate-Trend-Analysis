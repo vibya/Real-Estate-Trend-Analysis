{
 "cells": [
  {
   "cell_type": "code",
   "execution_count": 1,
   "metadata": {},
   "outputs": [
    {
     "name": "stdout",
     "output_type": "stream",
     "text": [
      "0.5.0\n"
     ]
    }
   ],
   "source": [
    "import pandas as pd\n",
    "import os\n",
    "import folium\n",
    "import subprocess\n",
    "from sklearn import preprocessing\n",
    "\n",
    "print(folium.__version__)"
   ]
  },
  {
   "cell_type": "code",
   "execution_count": 4,
   "metadata": {},
   "outputs": [
    {
     "ename": "FileNotFoundError",
     "evalue": "File b'data/campaign_contributions_for_map.tsv' does not exist",
     "output_type": "error",
     "traceback": [
      "\u001b[0;31m---------------------------------------------------------------------------\u001b[0m",
      "\u001b[0;31mFileNotFoundError\u001b[0m                         Traceback (most recent call last)",
      "\u001b[0;32m<ipython-input-4-6ff44f1fccc6>\u001b[0m in \u001b[0;36m<module>\u001b[0;34m()\u001b[0m\n\u001b[0;32m----> 1\u001b[0;31m \u001b[0mdf\u001b[0m \u001b[0;34m=\u001b[0m \u001b[0mpd\u001b[0m\u001b[0;34m.\u001b[0m\u001b[0mread_csv\u001b[0m\u001b[0;34m(\u001b[0m\u001b[0;34m'data/campaign_contributions_for_map.tsv'\u001b[0m\u001b[0;34m,\u001b[0m \u001b[0msep\u001b[0m\u001b[0;34m=\u001b[0m\u001b[0;34m'\\t'\u001b[0m\u001b[0;34m)\u001b[0m\u001b[0;34m\u001b[0m\u001b[0m\n\u001b[0m\u001b[1;32m      2\u001b[0m \u001b[0mdf\u001b[0m\u001b[0;34m.\u001b[0m\u001b[0msort_values\u001b[0m\u001b[0;34m(\u001b[0m\u001b[0;34m'Amount'\u001b[0m\u001b[0;34m,\u001b[0m \u001b[0mascending\u001b[0m\u001b[0;34m=\u001b[0m\u001b[0;32mFalse\u001b[0m\u001b[0;34m)\u001b[0m\u001b[0;34m.\u001b[0m\u001b[0mhead\u001b[0m\u001b[0;34m(\u001b[0m\u001b[0;34m)\u001b[0m\u001b[0;34m\u001b[0m\u001b[0m\n",
      "\u001b[0;32m~/miniconda3/envs/08-project-one/lib/python3.6/site-packages/pandas/io/parsers.py\u001b[0m in \u001b[0;36mparser_f\u001b[0;34m(filepath_or_buffer, sep, delimiter, header, names, index_col, usecols, squeeze, prefix, mangle_dupe_cols, dtype, engine, converters, true_values, false_values, skipinitialspace, skiprows, nrows, na_values, keep_default_na, na_filter, verbose, skip_blank_lines, parse_dates, infer_datetime_format, keep_date_col, date_parser, dayfirst, iterator, chunksize, compression, thousands, decimal, lineterminator, quotechar, quoting, escapechar, comment, encoding, dialect, tupleize_cols, error_bad_lines, warn_bad_lines, skipfooter, doublequote, delim_whitespace, low_memory, memory_map, float_precision)\u001b[0m\n\u001b[1;32m    676\u001b[0m                     skip_blank_lines=skip_blank_lines)\n\u001b[1;32m    677\u001b[0m \u001b[0;34m\u001b[0m\u001b[0m\n\u001b[0;32m--> 678\u001b[0;31m         \u001b[0;32mreturn\u001b[0m \u001b[0m_read\u001b[0m\u001b[0;34m(\u001b[0m\u001b[0mfilepath_or_buffer\u001b[0m\u001b[0;34m,\u001b[0m \u001b[0mkwds\u001b[0m\u001b[0;34m)\u001b[0m\u001b[0;34m\u001b[0m\u001b[0m\n\u001b[0m\u001b[1;32m    679\u001b[0m \u001b[0;34m\u001b[0m\u001b[0m\n\u001b[1;32m    680\u001b[0m     \u001b[0mparser_f\u001b[0m\u001b[0;34m.\u001b[0m\u001b[0m__name__\u001b[0m \u001b[0;34m=\u001b[0m \u001b[0mname\u001b[0m\u001b[0;34m\u001b[0m\u001b[0m\n",
      "\u001b[0;32m~/miniconda3/envs/08-project-one/lib/python3.6/site-packages/pandas/io/parsers.py\u001b[0m in \u001b[0;36m_read\u001b[0;34m(filepath_or_buffer, kwds)\u001b[0m\n\u001b[1;32m    438\u001b[0m \u001b[0;34m\u001b[0m\u001b[0m\n\u001b[1;32m    439\u001b[0m     \u001b[0;31m# Create the parser.\u001b[0m\u001b[0;34m\u001b[0m\u001b[0;34m\u001b[0m\u001b[0m\n\u001b[0;32m--> 440\u001b[0;31m     \u001b[0mparser\u001b[0m \u001b[0;34m=\u001b[0m \u001b[0mTextFileReader\u001b[0m\u001b[0;34m(\u001b[0m\u001b[0mfilepath_or_buffer\u001b[0m\u001b[0;34m,\u001b[0m \u001b[0;34m**\u001b[0m\u001b[0mkwds\u001b[0m\u001b[0;34m)\u001b[0m\u001b[0;34m\u001b[0m\u001b[0m\n\u001b[0m\u001b[1;32m    441\u001b[0m \u001b[0;34m\u001b[0m\u001b[0m\n\u001b[1;32m    442\u001b[0m     \u001b[0;32mif\u001b[0m \u001b[0mchunksize\u001b[0m \u001b[0;32mor\u001b[0m \u001b[0miterator\u001b[0m\u001b[0;34m:\u001b[0m\u001b[0;34m\u001b[0m\u001b[0m\n",
      "\u001b[0;32m~/miniconda3/envs/08-project-one/lib/python3.6/site-packages/pandas/io/parsers.py\u001b[0m in \u001b[0;36m__init__\u001b[0;34m(self, f, engine, **kwds)\u001b[0m\n\u001b[1;32m    785\u001b[0m             \u001b[0mself\u001b[0m\u001b[0;34m.\u001b[0m\u001b[0moptions\u001b[0m\u001b[0;34m[\u001b[0m\u001b[0;34m'has_index_names'\u001b[0m\u001b[0;34m]\u001b[0m \u001b[0;34m=\u001b[0m \u001b[0mkwds\u001b[0m\u001b[0;34m[\u001b[0m\u001b[0;34m'has_index_names'\u001b[0m\u001b[0;34m]\u001b[0m\u001b[0;34m\u001b[0m\u001b[0m\n\u001b[1;32m    786\u001b[0m \u001b[0;34m\u001b[0m\u001b[0m\n\u001b[0;32m--> 787\u001b[0;31m         \u001b[0mself\u001b[0m\u001b[0;34m.\u001b[0m\u001b[0m_make_engine\u001b[0m\u001b[0;34m(\u001b[0m\u001b[0mself\u001b[0m\u001b[0;34m.\u001b[0m\u001b[0mengine\u001b[0m\u001b[0;34m)\u001b[0m\u001b[0;34m\u001b[0m\u001b[0m\n\u001b[0m\u001b[1;32m    788\u001b[0m \u001b[0;34m\u001b[0m\u001b[0m\n\u001b[1;32m    789\u001b[0m     \u001b[0;32mdef\u001b[0m \u001b[0mclose\u001b[0m\u001b[0;34m(\u001b[0m\u001b[0mself\u001b[0m\u001b[0;34m)\u001b[0m\u001b[0;34m:\u001b[0m\u001b[0;34m\u001b[0m\u001b[0m\n",
      "\u001b[0;32m~/miniconda3/envs/08-project-one/lib/python3.6/site-packages/pandas/io/parsers.py\u001b[0m in \u001b[0;36m_make_engine\u001b[0;34m(self, engine)\u001b[0m\n\u001b[1;32m   1012\u001b[0m     \u001b[0;32mdef\u001b[0m \u001b[0m_make_engine\u001b[0m\u001b[0;34m(\u001b[0m\u001b[0mself\u001b[0m\u001b[0;34m,\u001b[0m \u001b[0mengine\u001b[0m\u001b[0;34m=\u001b[0m\u001b[0;34m'c'\u001b[0m\u001b[0;34m)\u001b[0m\u001b[0;34m:\u001b[0m\u001b[0;34m\u001b[0m\u001b[0m\n\u001b[1;32m   1013\u001b[0m         \u001b[0;32mif\u001b[0m \u001b[0mengine\u001b[0m \u001b[0;34m==\u001b[0m \u001b[0;34m'c'\u001b[0m\u001b[0;34m:\u001b[0m\u001b[0;34m\u001b[0m\u001b[0m\n\u001b[0;32m-> 1014\u001b[0;31m             \u001b[0mself\u001b[0m\u001b[0;34m.\u001b[0m\u001b[0m_engine\u001b[0m \u001b[0;34m=\u001b[0m \u001b[0mCParserWrapper\u001b[0m\u001b[0;34m(\u001b[0m\u001b[0mself\u001b[0m\u001b[0;34m.\u001b[0m\u001b[0mf\u001b[0m\u001b[0;34m,\u001b[0m \u001b[0;34m**\u001b[0m\u001b[0mself\u001b[0m\u001b[0;34m.\u001b[0m\u001b[0moptions\u001b[0m\u001b[0;34m)\u001b[0m\u001b[0;34m\u001b[0m\u001b[0m\n\u001b[0m\u001b[1;32m   1015\u001b[0m         \u001b[0;32melse\u001b[0m\u001b[0;34m:\u001b[0m\u001b[0;34m\u001b[0m\u001b[0m\n\u001b[1;32m   1016\u001b[0m             \u001b[0;32mif\u001b[0m \u001b[0mengine\u001b[0m \u001b[0;34m==\u001b[0m \u001b[0;34m'python'\u001b[0m\u001b[0;34m:\u001b[0m\u001b[0;34m\u001b[0m\u001b[0m\n",
      "\u001b[0;32m~/miniconda3/envs/08-project-one/lib/python3.6/site-packages/pandas/io/parsers.py\u001b[0m in \u001b[0;36m__init__\u001b[0;34m(self, src, **kwds)\u001b[0m\n\u001b[1;32m   1706\u001b[0m         \u001b[0mkwds\u001b[0m\u001b[0;34m[\u001b[0m\u001b[0;34m'usecols'\u001b[0m\u001b[0;34m]\u001b[0m \u001b[0;34m=\u001b[0m \u001b[0mself\u001b[0m\u001b[0;34m.\u001b[0m\u001b[0musecols\u001b[0m\u001b[0;34m\u001b[0m\u001b[0m\n\u001b[1;32m   1707\u001b[0m \u001b[0;34m\u001b[0m\u001b[0m\n\u001b[0;32m-> 1708\u001b[0;31m         \u001b[0mself\u001b[0m\u001b[0;34m.\u001b[0m\u001b[0m_reader\u001b[0m \u001b[0;34m=\u001b[0m \u001b[0mparsers\u001b[0m\u001b[0;34m.\u001b[0m\u001b[0mTextReader\u001b[0m\u001b[0;34m(\u001b[0m\u001b[0msrc\u001b[0m\u001b[0;34m,\u001b[0m \u001b[0;34m**\u001b[0m\u001b[0mkwds\u001b[0m\u001b[0;34m)\u001b[0m\u001b[0;34m\u001b[0m\u001b[0m\n\u001b[0m\u001b[1;32m   1709\u001b[0m \u001b[0;34m\u001b[0m\u001b[0m\n\u001b[1;32m   1710\u001b[0m         \u001b[0mpassed_names\u001b[0m \u001b[0;34m=\u001b[0m \u001b[0mself\u001b[0m\u001b[0;34m.\u001b[0m\u001b[0mnames\u001b[0m \u001b[0;32mis\u001b[0m \u001b[0;32mNone\u001b[0m\u001b[0;34m\u001b[0m\u001b[0m\n",
      "\u001b[0;32mpandas/_libs/parsers.pyx\u001b[0m in \u001b[0;36mpandas._libs.parsers.TextReader.__cinit__\u001b[0;34m()\u001b[0m\n",
      "\u001b[0;32mpandas/_libs/parsers.pyx\u001b[0m in \u001b[0;36mpandas._libs.parsers.TextReader._setup_parser_source\u001b[0;34m()\u001b[0m\n",
      "\u001b[0;31mFileNotFoundError\u001b[0m: File b'data/campaign_contributions_for_map.tsv' does not exist"
     ]
    }
   ],
   "source": [
    "df = pd.read_csv('data/campaign_contributions_for_map.tsv', sep='\\t')\n",
    "df.sort_values('Amount', ascending=False).head()"
   ]
  },
  {
   "cell_type": "code",
   "execution_count": null,
   "metadata": {},
   "outputs": [],
   "source": [
    "df.info()"
   ]
  },
  {
   "cell_type": "code",
   "execution_count": 3,
   "metadata": {},
   "outputs": [
    {
     "ename": "NameError",
     "evalue": "name 'df' is not defined",
     "output_type": "error",
     "traceback": [
      "\u001b[0;31m---------------------------------------------------------------------------\u001b[0m",
      "\u001b[0;31mNameError\u001b[0m                                 Traceback (most recent call last)",
      "\u001b[0;32m<ipython-input-3-4d18ccafcfd2>\u001b[0m in \u001b[0;36m<module>\u001b[0;34m()\u001b[0m\n\u001b[0;32m----> 1\u001b[0;31m \u001b[0mvalid_heatmap_df\u001b[0m \u001b[0;34m=\u001b[0m \u001b[0mdf\u001b[0m\u001b[0;34m[\u001b[0m\u001b[0;34m[\u001b[0m\u001b[0;34m\"lat\"\u001b[0m\u001b[0;34m,\u001b[0m \u001b[0;34m\"lon\"\u001b[0m\u001b[0;34m,\u001b[0m \u001b[0;34m\"Amount\"\u001b[0m\u001b[0;34m]\u001b[0m\u001b[0;34m]\u001b[0m\u001b[0;34m\u001b[0m\u001b[0m\n\u001b[0m\u001b[1;32m      2\u001b[0m \u001b[0mvalid_heatmap_df\u001b[0m\u001b[0;34m.\u001b[0m\u001b[0mhead\u001b[0m\u001b[0;34m(\u001b[0m\u001b[0;34m)\u001b[0m\u001b[0;34m\u001b[0m\u001b[0m\n",
      "\u001b[0;31mNameError\u001b[0m: name 'df' is not defined"
     ]
    }
   ],
   "source": [
    "valid_heatmap_df = df[[\"lat\", \"lon\", \"Amount\"]]\n",
    "valid_heatmap_df.head()"
   ]
  },
  {
   "cell_type": "markdown",
   "metadata": {},
   "source": [
    "## Heatmap"
   ]
  },
  {
   "cell_type": "code",
   "execution_count": 5,
   "metadata": {},
   "outputs": [],
   "source": [
    "# convert pandas.DataFrame to numpy.array\n",
    "data = valid_heatmap_df[[\"lat\", \"lon\", \"Amount\"]].values"
   ]
  },
  {
   "cell_type": "code",
   "execution_count": 6,
   "metadata": {},
   "outputs": [],
   "source": [
    "# normalize weight values to [0, 1]\n",
    "min_max_scaler = preprocessing.MinMaxScaler()\n",
    "data[:, [2]] = min_max_scaler.fit_transform(data[:, [2]])"
   ]
  },
  {
   "cell_type": "code",
   "execution_count": 7,
   "metadata": {},
   "outputs": [
    {
     "name": "stdout",
     "output_type": "stream",
     "text": [
      "Help on class Map in module folium.folium:\n",
      "\n",
      "class Map(folium.map.LegacyMap)\n",
      " |  Create a Map with Folium and Leaflet.js\n",
      " |  \n",
      " |  Generate a base map of given width and height with either default\n",
      " |  tilesets or a custom tileset URL. The following tilesets are built-in\n",
      " |  to Folium. Pass any of the following to the \"tiles\" keyword:\n",
      " |  \n",
      " |      - \"OpenStreetMap\"\n",
      " |      - \"Mapbox Bright\" (Limited levels of zoom for free tiles)\n",
      " |      - \"Mapbox Control Room\" (Limited levels of zoom for free tiles)\n",
      " |      - \"Stamen\" (Terrain, Toner, and Watercolor)\n",
      " |      - \"Cloudmade\" (Must pass API key)\n",
      " |      - \"Mapbox\" (Must pass API key)\n",
      " |      - \"CartoDB\" (positron and dark_matter)\n",
      " |  \n",
      " |  You can pass a custom tileset to Folium by passing a Leaflet-style\n",
      " |  URL to the tiles parameter: ``http://{s}.yourtiles.com/{z}/{x}/{y}.png``\n",
      " |  \n",
      " |  Parameters\n",
      " |  ----------\n",
      " |  location: tuple or list, default None\n",
      " |      Latitude and Longitude of Map (Northing, Easting).\n",
      " |  width: pixel int or percentage string (default: '100%')\n",
      " |      Width of the map.\n",
      " |  height: pixel int or percentage string (default: '100%')\n",
      " |      Height of the map.\n",
      " |  tiles: str, default 'OpenStreetMap'\n",
      " |      Map tileset to use. Can choose from a list of built-in tiles,\n",
      " |      pass a custom URL or pass `None` to create a map without tiles.\n",
      " |  API_key: str, default None\n",
      " |      API key for Cloudmade or Mapbox tiles.\n",
      " |  max_zoom: int, default 18\n",
      " |      Maximum zoom depth for the map.\n",
      " |  zoom_start: int, default 10\n",
      " |      Initial zoom level for the map.\n",
      " |  attr: string, default None\n",
      " |      Map tile attribution; only required if passing custom tile URL.\n",
      " |  detect_retina: bool, default False\n",
      " |      If true and user is on a retina display, it will request four\n",
      " |      tiles of half the specified size and a bigger zoom level in place\n",
      " |      of one to utilize the high resolution.\n",
      " |  crs : str, default 'EPSG3857'\n",
      " |      Defines coordinate reference systems for projecting geographical points\n",
      " |      into pixel (screen) coordinates and back.\n",
      " |      You can use Leaflet's values :\n",
      " |      * EPSG3857 : The most common CRS for online maps, used by almost all\n",
      " |      free and commercial tile providers. Uses Spherical Mercator projection.\n",
      " |      Set in by default in Map's crs option.\n",
      " |      * EPSG4326 : A common CRS among GIS enthusiasts.\n",
      " |      Uses simple Equirectangular projection.\n",
      " |      * EPSG3395 : Rarely used by some commercial tile providers.\n",
      " |      Uses Elliptical Mercator projection.\n",
      " |      * Simple : A simple CRS that maps longitude and latitude into\n",
      " |      x and y directly. May be used for maps of flat surfaces\n",
      " |      (e.g. game maps). Note that the y axis should still be inverted\n",
      " |      (going from bottom to top).\n",
      " |  control_scale : bool, default False\n",
      " |      Whether to add a control scale on the map.\n",
      " |  prefer_canvas : bool, default False\n",
      " |      Forces Leaflet to use the Canvas back-end (if available) for\n",
      " |      vector layers instead of SVG. This can increase performance\n",
      " |      considerably in some cases (e.g. many thousands of circle\n",
      " |      markers on the map).\n",
      " |  no_touch : bool, default False\n",
      " |      Forces Leaflet to not use touch events even if it detects them.\n",
      " |  disable_3d : bool, default False\n",
      " |      Forces Leaflet to not use hardware-accelerated CSS 3D\n",
      " |      transforms for positioning (which may cause glitches in some\n",
      " |      rare environments) even if they're supported.\n",
      " |  \n",
      " |  Returns\n",
      " |  -------\n",
      " |  Folium LegacyMap Object\n",
      " |  \n",
      " |  Examples\n",
      " |  --------\n",
      " |  >>> map = folium.LegacyMap(location=[45.523, -122.675],\n",
      " |  ...                        width=750, height=500)\n",
      " |  >>> map = folium.LegacyMap(location=[45.523, -122.675],\n",
      " |                             tiles='Mapbox Control Room')\n",
      " |  >>> map = folium.LegacyMap(location=(45.523, -122.675), max_zoom=20,\n",
      " |                             tiles='Cloudmade', API_key='YourKey')\n",
      " |  >>> map = folium.LegacyMap(\n",
      " |  ...    location=[45.523, -122.675],\n",
      " |  ...    zoom_start=2,\n",
      " |  ...    tiles='http://{s}.tiles.mapbox.com/v3/mapbox.control-room/{z}/{x}/{y}.png',\n",
      " |  ...    attr='Mapbox attribution'\n",
      " |  ...)\n",
      " |  \n",
      " |  Method resolution order:\n",
      " |      Map\n",
      " |      folium.map.LegacyMap\n",
      " |      branca.element.MacroElement\n",
      " |      branca.element.Element\n",
      " |      builtins.object\n",
      " |  \n",
      " |  Methods defined here:\n",
      " |  \n",
      " |  choropleth(self, geo_data, data=None, columns=None, key_on=None, threshold_scale=None, fill_color='blue', fill_opacity=0.6, line_color='black', line_weight=1, line_opacity=1, name=None, legend_name='', topojson=None, reset=False, smooth_factor=None, highlight=None)\n",
      " |      Apply a GeoJSON overlay to the map.\n",
      " |      \n",
      " |      Plot a GeoJSON overlay on the base map. There is no requirement\n",
      " |      to bind data (passing just a GeoJSON plots a single-color overlay),\n",
      " |      but there is a data binding option to map your columnar data to\n",
      " |      different feature objects with a color scale.\n",
      " |      \n",
      " |      If data is passed as a Pandas DataFrame, the \"columns\" and \"key-on\"\n",
      " |      keywords must be included, the first to indicate which DataFrame\n",
      " |      columns to use, the second to indicate the layer in the GeoJSON\n",
      " |      on which to key the data. The 'columns' keyword does not need to be\n",
      " |      passed for a Pandas series.\n",
      " |      \n",
      " |      Colors are generated from color brewer (http://colorbrewer2.org/)\n",
      " |      sequential palettes on a D3 threshold scale. The scale defaults to the\n",
      " |      following quantiles: [0, 0.5, 0.75, 0.85, 0.9]. A custom scale can be\n",
      " |      passed to `threshold_scale` of length <=6, in order to match the\n",
      " |      color brewer range.\n",
      " |      \n",
      " |      TopoJSONs can be passed as \"geo_data\", but the \"topojson\" keyword must\n",
      " |      also be passed with the reference to the topojson objects to convert.\n",
      " |      See the topojson.feature method in the TopoJSON API reference:\n",
      " |      https://github.com/topojson/topojson/wiki/API-Reference\n",
      " |      \n",
      " |      \n",
      " |      Parameters\n",
      " |      ----------\n",
      " |      geo_data: string/object\n",
      " |          URL, file path, or data (json, dict, geopandas, etc) to your GeoJSON geometries\n",
      " |      data: Pandas DataFrame or Series, default None\n",
      " |          Data to bind to the GeoJSON.\n",
      " |      columns: dict or tuple, default None\n",
      " |          If the data is a Pandas DataFrame, the columns of data to be bound.\n",
      " |          Must pass column 1 as the key, and column 2 the values.\n",
      " |      key_on: string, default None\n",
      " |          Variable in the GeoJSON file to bind the data to. Must always\n",
      " |          start with 'feature' and be in JavaScript objection notation.\n",
      " |          Ex: 'feature.id' or 'feature.properties.statename'.\n",
      " |      threshold_scale: list, default None\n",
      " |          Data range for D3 threshold scale. Defaults to the following range\n",
      " |          of quantiles: [0, 0.5, 0.75, 0.85, 0.9], rounded to the nearest\n",
      " |          order-of-magnitude integer. Ex: 270 rounds to 200, 5600 to 6000.\n",
      " |      fill_color: string, default 'blue'\n",
      " |          Area fill color. Can pass a hex code, color name, or if you are\n",
      " |          binding data, one of the following color brewer palettes:\n",
      " |          'BuGn', 'BuPu', 'GnBu', 'OrRd', 'PuBu', 'PuBuGn', 'PuRd', 'RdPu',\n",
      " |          'YlGn', 'YlGnBu', 'YlOrBr', and 'YlOrRd'.\n",
      " |      fill_opacity: float, default 0.6\n",
      " |          Area fill opacity, range 0-1.\n",
      " |      line_color: string, default 'black'\n",
      " |          GeoJSON geopath line color.\n",
      " |      line_weight: int, default 1\n",
      " |          GeoJSON geopath line weight.\n",
      " |      line_opacity: float, default 1\n",
      " |          GeoJSON geopath line opacity, range 0-1.\n",
      " |      legend_name: string, default empty string\n",
      " |          Title for data legend.\n",
      " |      topojson: string, default None\n",
      " |          If using a TopoJSON, passing \"objects.yourfeature\" to the topojson\n",
      " |          keyword argument will enable conversion to GeoJSON.\n",
      " |      reset: boolean, default False\n",
      " |          Remove all current geoJSON layers, start with new layer\n",
      " |      smooth_factor: float, default None\n",
      " |          How much to simplify the polyline on each zoom level. More means\n",
      " |          better performance and smoother look, and less means more accurate\n",
      " |          representation. Leaflet defaults to 1.0.\n",
      " |      highlight: boolean, default False\n",
      " |          Enable highlight functionality when hovering over a GeoJSON area.\n",
      " |      \n",
      " |      Returns\n",
      " |      -------\n",
      " |      GeoJSON data layer in obj.template_vars\n",
      " |      \n",
      " |      Examples\n",
      " |      --------\n",
      " |      >>> m.choropleth(geo_data='us-states.json', line_color='blue',\n",
      " |      ...              line_weight=3)\n",
      " |      >>> m.choropleth(geo_data='geo.json', data=df,\n",
      " |      ...              columns=['Data 1', 'Data 2'],\n",
      " |      ...              key_on='feature.properties.myvalue',\n",
      " |      ...              fill_color='PuBu',\n",
      " |      ...              threshold_scale=[0, 20, 30, 40, 50, 60])\n",
      " |      >>> m.choropleth(geo_data='countries.json',\n",
      " |      ...              topojson='objects.countries')\n",
      " |      >>> m.choropleth(geo_data='geo.json', data=df,\n",
      " |      ...              columns=['Data 1', 'Data 2'],\n",
      " |      ...              key_on='feature.properties.myvalue',\n",
      " |      ...              fill_color='PuBu',\n",
      " |      ...              threshold_scale=[0, 20, 30, 40, 50, 60],\n",
      " |      ...              highlight=True)\n",
      " |  \n",
      " |  fit_bounds(self, bounds, padding_top_left=None, padding_bottom_right=None, padding=None, max_zoom=None)\n",
      " |      Fit the map to contain a bounding box with the\n",
      " |      maximum zoom level possible.\n",
      " |      \n",
      " |      Parameters\n",
      " |      ----------\n",
      " |      bounds: list of (latitude, longitude) points\n",
      " |          Bounding box specified as two points [southwest, northeast]\n",
      " |      padding_top_left: (x, y) point, default None\n",
      " |          Padding in the top left corner. Useful if some elements in\n",
      " |          the corner, such as controls, might obscure objects you're zooming\n",
      " |          to.\n",
      " |      padding_bottom_right: (x, y) point, default None\n",
      " |          Padding in the bottom right corner.\n",
      " |      padding: (x, y) point, default None\n",
      " |          Equivalent to setting both top left and bottom right padding to\n",
      " |          the same value.\n",
      " |      max_zoom: int, default None\n",
      " |          Maximum zoom to be used.\n",
      " |      \n",
      " |      Examples\n",
      " |      --------\n",
      " |      >>> map.fit_bounds([[52.193636, -2.221575], [52.636878, -1.139759]])\n",
      " |  \n",
      " |  ----------------------------------------------------------------------\n",
      " |  Methods inherited from folium.map.LegacyMap:\n",
      " |  \n",
      " |  __init__(self, location=None, width='100%', height='100%', left='0%', top='0%', position='relative', tiles='OpenStreetMap', API_key=None, max_zoom=18, min_zoom=1, zoom_start=10, world_copy_jump=False, no_wrap=False, attr=None, min_lat=-90, max_lat=90, min_lon=-180, max_lon=180, max_bounds=False, detect_retina=False, crs='EPSG3857', control_scale=False, prefer_canvas=False, no_touch=False, disable_3d=False, subdomains='abc', png_enabled=False)\n",
      " |      Initialize self.  See help(type(self)) for accurate signature.\n",
      " |  \n",
      " |  add_tile_layer(self, tiles='OpenStreetMap', name=None, API_key=None, max_zoom=18, min_zoom=1, attr=None, active=False, detect_retina=False, no_wrap=False, subdomains='abc', **kwargs)\n",
      " |      Add a tile layer to the map. See TileLayer for options.\n",
      " |  \n",
      " |  render(self, **kwargs)\n",
      " |      Renders the HTML representation of the element.\n",
      " |  \n",
      " |  ----------------------------------------------------------------------\n",
      " |  Methods inherited from branca.element.Element:\n",
      " |  \n",
      " |  add_child(self, child, name=None, index=None)\n",
      " |      Add a child.\n",
      " |  \n",
      " |  add_children(self, child, name=None, index=None)\n",
      " |      Add a child.\n",
      " |  \n",
      " |  add_to(self, parent, name=None, index=None)\n",
      " |      Add element to a parent.\n",
      " |  \n",
      " |  get_bounds(self)\n",
      " |      Computes the bounds of the object and all it's children\n",
      " |      in the form [[lat_min, lon_min], [lat_max, lon_max]].\n",
      " |  \n",
      " |  get_name(self)\n",
      " |      Returns a string representation of the object.\n",
      " |      This string has to be unique and to be a python and\n",
      " |      javascript-compatible\n",
      " |      variable name.\n",
      " |  \n",
      " |  get_root(self)\n",
      " |      Returns the root of the elements tree.\n",
      " |  \n",
      " |  save(self, outfile, close_file=True, **kwargs)\n",
      " |      Saves an Element into a file.\n",
      " |      \n",
      " |      Parameters\n",
      " |      ----------\n",
      " |      outfile : str or file object\n",
      " |          The file (or filename) where you want to output the html.\n",
      " |      close_file : bool, default True\n",
      " |          Whether the file has to be closed after write.\n",
      " |  \n",
      " |  to_dict(self, depth=-1, ordered=True, **kwargs)\n",
      " |      Returns a dict representation of the object.\n",
      " |  \n",
      " |  to_json(self, depth=-1, **kwargs)\n",
      " |      Returns a JSON representation of the object.\n",
      " |  \n",
      " |  ----------------------------------------------------------------------\n",
      " |  Data descriptors inherited from branca.element.Element:\n",
      " |  \n",
      " |  __dict__\n",
      " |      dictionary for instance variables (if defined)\n",
      " |  \n",
      " |  __weakref__\n",
      " |      list of weak references to the object (if defined)\n",
      "\n"
     ]
    }
   ],
   "source": [
    "# map params\n",
    "location = [41.0, -75.5]\n",
    "zoom_start = 8\n",
    "# heatmap params\n",
    "# layer name\n",
    "name = \"layer01\"\n",
    "max_val = data[:, 2].max()\n",
    "min_opacity = 0.9\n",
    "blur = 20\n",
    "radius = 12\n",
    "help(folium.Map)"
   ]
  },
  {
   "cell_type": "code",
   "execution_count": 8,
   "metadata": {},
   "outputs": [
    {
     "ename": "NameError",
     "evalue": "name 'HeatMap' is not defined",
     "output_type": "error",
     "traceback": [
      "\u001b[0;31m---------------------------------------------------------------------------\u001b[0m",
      "\u001b[0;31mNameError\u001b[0m                                 Traceback (most recent call last)",
      "\u001b[0;32m<ipython-input-8-1db4442570d0>\u001b[0m in \u001b[0;36m<module>\u001b[0;34m()\u001b[0m\n\u001b[1;32m      2\u001b[0m \u001b[0;31m# m = folium.Map(location=location, zoom_start=zoom_start, )\u001b[0m\u001b[0;34m\u001b[0m\u001b[0;34m\u001b[0m\u001b[0m\n\u001b[1;32m      3\u001b[0m \u001b[0mm\u001b[0m \u001b[0;34m=\u001b[0m \u001b[0mfolium\u001b[0m\u001b[0;34m.\u001b[0m\u001b[0mMap\u001b[0m\u001b[0;34m(\u001b[0m\u001b[0mlocation\u001b[0m\u001b[0;34m=\u001b[0m\u001b[0mlocation\u001b[0m\u001b[0;34m,\u001b[0m \u001b[0mtiles\u001b[0m\u001b[0;34m=\u001b[0m\u001b[0;34m\"stamentoner\"\u001b[0m\u001b[0;34m,\u001b[0m \u001b[0mzoom_start\u001b[0m\u001b[0;34m=\u001b[0m\u001b[0mzoom_start\u001b[0m\u001b[0;34m)\u001b[0m\u001b[0;34m\u001b[0m\u001b[0m\n\u001b[0;32m----> 4\u001b[0;31m \u001b[0mhm\u001b[0m \u001b[0;34m=\u001b[0m \u001b[0mHeatMap\u001b[0m\u001b[0;34m(\u001b[0m\u001b[0mdata\u001b[0m\u001b[0;34m.\u001b[0m\u001b[0mtolist\u001b[0m\u001b[0;34m(\u001b[0m\u001b[0;34m)\u001b[0m\u001b[0;34m,\u001b[0m \u001b[0mmin_opacity\u001b[0m\u001b[0;34m=\u001b[0m\u001b[0mmin_opacity\u001b[0m\u001b[0;34m,\u001b[0m \u001b[0mblur\u001b[0m\u001b[0;34m=\u001b[0m\u001b[0mblur\u001b[0m\u001b[0;34m,\u001b[0m \u001b[0mradius\u001b[0m\u001b[0;34m=\u001b[0m\u001b[0mradius\u001b[0m\u001b[0;34m)\u001b[0m\u001b[0;34m\u001b[0m\u001b[0m\n\u001b[0m\u001b[1;32m      5\u001b[0m \u001b[0;34m\u001b[0m\u001b[0m\n\u001b[1;32m      6\u001b[0m \u001b[0mhm\u001b[0m\u001b[0;34m.\u001b[0m\u001b[0madd_to\u001b[0m\u001b[0;34m(\u001b[0m\u001b[0mm\u001b[0m\u001b[0;34m)\u001b[0m\u001b[0;34m\u001b[0m\u001b[0m\n",
      "\u001b[0;31mNameError\u001b[0m: name 'HeatMap' is not defined"
     ]
    }
   ],
   "source": [
    "# create map\n",
    "# m = folium.Map(location=location, zoom_start=zoom_start, )\n",
    "m = folium.Map(location=location, tiles=\"stamentoner\", zoom_start=zoom_start)\n",
    "hm = HeatMap(data.tolist(), min_opacity=min_opacity, blur=blur, radius=radius)\n",
    "\n",
    "hm.add_to(m)\n",
    "# folium.GeoJson(district23).add_to(hmap)\n",
    "# hmap.add_child(hm_wide)\n",
    "\n",
    "m.save(os.path.join('results', 'Heatmap_1.html'))\n",
    "hm.save(os.path.join('results', 'geo_heatmap.html'))\n"
   ]
  },
  {
   "cell_type": "markdown",
   "metadata": {},
   "source": [
    "# Saving png's of Folium Maps\n",
    "\n",
    "https://github.com/python-visualization/folium/issues/35\n",
    "\n",
    "These aren't tested, just pasted here as a starting point should someone need them."
   ]
  },
  {
   "cell_type": "markdown",
   "metadata": {},
   "source": [
    "### Using cutycapt"
   ]
  },
  {
   "cell_type": "code",
   "execution_count": 39,
   "metadata": {},
   "outputs": [
    {
     "data": {
      "text/plain": [
       "0"
      ]
     },
     "execution_count": 39,
     "metadata": {},
     "output_type": "execute_result"
    }
   ],
   "source": [
    "# save to png file\n",
    "outdir = \"results\" # this directory has to exist..\n",
    "#hmap.save(\"tmp.html\")  # heatmap saved above\n",
    "url = \"file://{}/results/geo_heatmap.html\".format(os.getcwd())\n",
    "outfn = os.path.join(outdir,\"geo_heatmap.png\")\n",
    "subprocess.check_call([\"cutycapt\",\"--url={}\".format(url), \"--out={}\".format(outfn)])"
   ]
  },
  {
   "cell_type": "markdown",
   "metadata": {},
   "source": [
    "### Using selenium"
   ]
  },
  {
   "cell_type": "code",
   "execution_count": null,
   "metadata": {},
   "outputs": [],
   "source": []
  },
  {
   "cell_type": "code",
   "execution_count": 35,
   "metadata": {},
   "outputs": [
    {
     "ename": "WebDriverException",
     "evalue": "Message: 'geckodriver' executable needs to be in PATH. \n",
     "output_type": "error",
     "traceback": [
      "\u001b[0;31m---------------------------------------------------------------------------\u001b[0m",
      "\u001b[0;31mFileNotFoundError\u001b[0m                         Traceback (most recent call last)",
      "\u001b[0;32m~/miniconda3/envs/08-project-one/lib/python3.6/site-packages/selenium/webdriver/common/service.py\u001b[0m in \u001b[0;36mstart\u001b[0;34m(self)\u001b[0m\n\u001b[1;32m     75\u001b[0m                                             \u001b[0mstderr\u001b[0m\u001b[0;34m=\u001b[0m\u001b[0mself\u001b[0m\u001b[0;34m.\u001b[0m\u001b[0mlog_file\u001b[0m\u001b[0;34m,\u001b[0m\u001b[0;34m\u001b[0m\u001b[0m\n\u001b[0;32m---> 76\u001b[0;31m                                             stdin=PIPE)\n\u001b[0m\u001b[1;32m     77\u001b[0m         \u001b[0;32mexcept\u001b[0m \u001b[0mTypeError\u001b[0m\u001b[0;34m:\u001b[0m\u001b[0;34m\u001b[0m\u001b[0m\n",
      "\u001b[0;32m~/miniconda3/envs/08-project-one/lib/python3.6/subprocess.py\u001b[0m in \u001b[0;36m__init__\u001b[0;34m(self, args, bufsize, executable, stdin, stdout, stderr, preexec_fn, close_fds, shell, cwd, env, universal_newlines, startupinfo, creationflags, restore_signals, start_new_session, pass_fds, encoding, errors)\u001b[0m\n\u001b[1;32m    708\u001b[0m                                 \u001b[0merrread\u001b[0m\u001b[0;34m,\u001b[0m \u001b[0merrwrite\u001b[0m\u001b[0;34m,\u001b[0m\u001b[0;34m\u001b[0m\u001b[0m\n\u001b[0;32m--> 709\u001b[0;31m                                 restore_signals, start_new_session)\n\u001b[0m\u001b[1;32m    710\u001b[0m         \u001b[0;32mexcept\u001b[0m\u001b[0;34m:\u001b[0m\u001b[0;34m\u001b[0m\u001b[0m\n",
      "\u001b[0;32m~/miniconda3/envs/08-project-one/lib/python3.6/subprocess.py\u001b[0m in \u001b[0;36m_execute_child\u001b[0;34m(self, args, executable, preexec_fn, close_fds, pass_fds, cwd, env, startupinfo, creationflags, shell, p2cread, p2cwrite, c2pread, c2pwrite, errread, errwrite, restore_signals, start_new_session)\u001b[0m\n\u001b[1;32m   1343\u001b[0m                             \u001b[0merr_msg\u001b[0m \u001b[0;34m+=\u001b[0m \u001b[0;34m': '\u001b[0m \u001b[0;34m+\u001b[0m \u001b[0mrepr\u001b[0m\u001b[0;34m(\u001b[0m\u001b[0merr_filename\u001b[0m\u001b[0;34m)\u001b[0m\u001b[0;34m\u001b[0m\u001b[0m\n\u001b[0;32m-> 1344\u001b[0;31m                     \u001b[0;32mraise\u001b[0m \u001b[0mchild_exception_type\u001b[0m\u001b[0;34m(\u001b[0m\u001b[0merrno_num\u001b[0m\u001b[0;34m,\u001b[0m \u001b[0merr_msg\u001b[0m\u001b[0;34m,\u001b[0m \u001b[0merr_filename\u001b[0m\u001b[0;34m)\u001b[0m\u001b[0;34m\u001b[0m\u001b[0m\n\u001b[0m\u001b[1;32m   1345\u001b[0m                 \u001b[0;32mraise\u001b[0m \u001b[0mchild_exception_type\u001b[0m\u001b[0;34m(\u001b[0m\u001b[0merr_msg\u001b[0m\u001b[0;34m)\u001b[0m\u001b[0;34m\u001b[0m\u001b[0m\n",
      "\u001b[0;31mFileNotFoundError\u001b[0m: [Errno 2] No such file or directory: 'geckodriver': 'geckodriver'",
      "\nDuring handling of the above exception, another exception occurred:\n",
      "\u001b[0;31mWebDriverException\u001b[0m                        Traceback (most recent call last)",
      "\u001b[0;32m<ipython-input-35-c2910a0d73e1>\u001b[0m in \u001b[0;36m<module>\u001b[0;34m()\u001b[0m\n\u001b[1;32m      7\u001b[0m \u001b[0;31m#hmap.save(\"tmp.html\")  # heatmap saved above\u001b[0m\u001b[0;34m\u001b[0m\u001b[0;34m\u001b[0m\u001b[0m\n\u001b[1;32m      8\u001b[0m \u001b[0;34m\u001b[0m\u001b[0m\n\u001b[0;32m----> 9\u001b[0;31m \u001b[0mbrowser\u001b[0m \u001b[0;34m=\u001b[0m \u001b[0mwebdriver\u001b[0m\u001b[0;34m.\u001b[0m\u001b[0mFirefox\u001b[0m\u001b[0;34m(\u001b[0m\u001b[0;34m)\u001b[0m\u001b[0;34m\u001b[0m\u001b[0m\n\u001b[0m\u001b[1;32m     10\u001b[0m \u001b[0mbrowser\u001b[0m\u001b[0;34m.\u001b[0m\u001b[0mget\u001b[0m\u001b[0;34m(\u001b[0m\u001b[0mtmpurl\u001b[0m\u001b[0;34m)\u001b[0m\u001b[0;34m\u001b[0m\u001b[0m\n\u001b[1;32m     11\u001b[0m \u001b[0mtime\u001b[0m\u001b[0;34m.\u001b[0m\u001b[0msleep\u001b[0m\u001b[0;34m(\u001b[0m\u001b[0;36m5\u001b[0m\u001b[0;34m)\u001b[0m  \u001b[0;31m#Give the map tiles some time to load\u001b[0m\u001b[0;34m\u001b[0m\u001b[0m\n",
      "\u001b[0;32m~/miniconda3/envs/08-project-one/lib/python3.6/site-packages/selenium/webdriver/firefox/webdriver.py\u001b[0m in \u001b[0;36m__init__\u001b[0;34m(self, firefox_profile, firefox_binary, timeout, capabilities, proxy, executable_path, options, log_path, firefox_options, service_args)\u001b[0m\n\u001b[1;32m    150\u001b[0m                 \u001b[0mservice_args\u001b[0m\u001b[0;34m=\u001b[0m\u001b[0mservice_args\u001b[0m\u001b[0;34m,\u001b[0m\u001b[0;34m\u001b[0m\u001b[0m\n\u001b[1;32m    151\u001b[0m                 log_path=log_path)\n\u001b[0;32m--> 152\u001b[0;31m             \u001b[0mself\u001b[0m\u001b[0;34m.\u001b[0m\u001b[0mservice\u001b[0m\u001b[0;34m.\u001b[0m\u001b[0mstart\u001b[0m\u001b[0;34m(\u001b[0m\u001b[0;34m)\u001b[0m\u001b[0;34m\u001b[0m\u001b[0m\n\u001b[0m\u001b[1;32m    153\u001b[0m \u001b[0;34m\u001b[0m\u001b[0m\n\u001b[1;32m    154\u001b[0m             \u001b[0mcapabilities\u001b[0m\u001b[0;34m.\u001b[0m\u001b[0mupdate\u001b[0m\u001b[0;34m(\u001b[0m\u001b[0moptions\u001b[0m\u001b[0;34m.\u001b[0m\u001b[0mto_capabilities\u001b[0m\u001b[0;34m(\u001b[0m\u001b[0;34m)\u001b[0m\u001b[0;34m)\u001b[0m\u001b[0;34m\u001b[0m\u001b[0m\n",
      "\u001b[0;32m~/miniconda3/envs/08-project-one/lib/python3.6/site-packages/selenium/webdriver/common/service.py\u001b[0m in \u001b[0;36mstart\u001b[0;34m(self)\u001b[0m\n\u001b[1;32m     81\u001b[0m                 raise WebDriverException(\n\u001b[1;32m     82\u001b[0m                     \"'%s' executable needs to be in PATH. %s\" % (\n\u001b[0;32m---> 83\u001b[0;31m                         os.path.basename(self.path), self.start_error_message)\n\u001b[0m\u001b[1;32m     84\u001b[0m                 )\n\u001b[1;32m     85\u001b[0m             \u001b[0;32melif\u001b[0m \u001b[0merr\u001b[0m\u001b[0;34m.\u001b[0m\u001b[0merrno\u001b[0m \u001b[0;34m==\u001b[0m \u001b[0merrno\u001b[0m\u001b[0;34m.\u001b[0m\u001b[0mEACCES\u001b[0m\u001b[0;34m:\u001b[0m\u001b[0;34m\u001b[0m\u001b[0m\n",
      "\u001b[0;31mWebDriverException\u001b[0m: Message: 'geckodriver' executable needs to be in PATH. \n"
     ]
    }
   ],
   "source": [
    "import os\n",
    "import time\n",
    "from selenium import webdriver\n",
    "\n",
    "fn = os.path.join('results', 'geo_heatmap.html')\n",
    "tmpurl='file://{path}/{mapfile}'.format(path=os.getcwd(),mapfile=fn)\n",
    "#hmap.save(\"tmp.html\")  # heatmap saved above\n",
    "\n",
    "browser = webdriver.Firefox()\n",
    "browser.get(tmpurl)\n",
    "time.sleep(5)  #Give the map tiles some time to load\n",
    "browser.save_screenshot('geo_heatmap.png')\n",
    "browser.quit()"
   ]
  },
  {
   "cell_type": "code",
   "execution_count": null,
   "metadata": {},
   "outputs": [],
   "source": []
  },
  {
   "cell_type": "code",
   "execution_count": null,
   "metadata": {},
   "outputs": [],
   "source": []
  }
 ],
 "metadata": {
  "kernelspec": {
   "display_name": "Python [default]",
   "language": "python",
   "name": "python3"
  },
  "language_info": {
   "codemirror_mode": {
    "name": "ipython",
    "version": 3
   },
   "file_extension": ".py",
   "mimetype": "text/x-python",
   "name": "python",
   "nbconvert_exporter": "python",
   "pygments_lexer": "ipython3",
   "version": "3.6.5"
  }
 },
 "nbformat": 4,
 "nbformat_minor": 1
}
