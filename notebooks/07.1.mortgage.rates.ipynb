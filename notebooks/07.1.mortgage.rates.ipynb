{
 "cells": [
  {
   "cell_type": "code",
   "execution_count": 2,
   "metadata": {},
   "outputs": [],
   "source": [
    "import pandas as pd\n",
    "import os, sys, inspect\n",
    "import numpy as np\n",
    "import matplotlib.pyplot as plt\n",
    "# add parent dir to system dir\n",
    "currdir = os.path.dirname(os.path.abspath(inspect.getfile(inspect.currentframe())))\n",
    "rootdir = os.path.dirname(currdir)\n",
    "sys.path.insert(0, rootdir)"
   ]
  },
  {
   "cell_type": "code",
   "execution_count": 7,
   "metadata": {},
   "outputs": [
    {
     "data": {
      "text/html": [
       "<div>\n",
       "<style scoped>\n",
       "    .dataframe tbody tr th:only-of-type {\n",
       "        vertical-align: middle;\n",
       "    }\n",
       "\n",
       "    .dataframe tbody tr th {\n",
       "        vertical-align: top;\n",
       "    }\n",
       "\n",
       "    .dataframe thead th {\n",
       "        text-align: right;\n",
       "    }\n",
       "</style>\n",
       "<table border=\"1\" class=\"dataframe\">\n",
       "  <thead>\n",
       "    <tr style=\"text-align: right;\">\n",
       "      <th></th>\n",
       "      <th>Mortgage Rate</th>\n",
       "      <th>year</th>\n",
       "      <th>month</th>\n",
       "    </tr>\n",
       "  </thead>\n",
       "  <tbody>\n",
       "    <tr>\n",
       "      <th>0</th>\n",
       "      <td>4.56</td>\n",
       "      <td>2018</td>\n",
       "      <td>5</td>\n",
       "    </tr>\n",
       "    <tr>\n",
       "      <th>1</th>\n",
       "      <td>4.58</td>\n",
       "      <td>2018</td>\n",
       "      <td>4</td>\n",
       "    </tr>\n",
       "    <tr>\n",
       "      <th>2</th>\n",
       "      <td>4.44</td>\n",
       "      <td>2018</td>\n",
       "      <td>3</td>\n",
       "    </tr>\n",
       "    <tr>\n",
       "      <th>3</th>\n",
       "      <td>4.40</td>\n",
       "      <td>2018</td>\n",
       "      <td>2</td>\n",
       "    </tr>\n",
       "    <tr>\n",
       "      <th>4</th>\n",
       "      <td>4.15</td>\n",
       "      <td>2018</td>\n",
       "      <td>1</td>\n",
       "    </tr>\n",
       "  </tbody>\n",
       "</table>\n",
       "</div>"
      ],
      "text/plain": [
       "   Mortgage Rate  year  month\n",
       "0           4.56  2018      5\n",
       "1           4.58  2018      4\n",
       "2           4.44  2018      3\n",
       "3           4.40  2018      2\n",
       "4           4.15  2018      1"
      ]
     },
     "execution_count": 7,
     "metadata": {},
     "output_type": "execute_result"
    }
   ],
   "source": [
    "ffname = os.path.join(rootdir, \"data\", \"raw\", \"FMAC-30us.csv\")\n",
    "mortgage_30_rates = pd.read_csv(ffname)\n",
    "mortgage_30_rates['year'] = pd.DatetimeIndex(mortgage_30_rates['Date']).year\n",
    "mortgage_30_rates['month'] = pd.DatetimeIndex(mortgage_30_rates['Date']).month\n",
    "mortgage_30_rates = mortgage_30_rates.rename(index=str, columns={\"Value\": \"Mortgage Rate\"})\n",
    "mortgage_30_rates = mortgage_30_rates.drop(labels=\"Date\", axis=1)\n",
    "\n",
    "output = os.path.join(rootdir, \"data\", \"int\", \"30_year_rates.csv\")\n",
    "mortgage_30_rates.to_csv(output, index=False)\n",
    "mortgage_30_rates.head()"
   ]
  },
  {
   "cell_type": "code",
   "execution_count": 8,
   "metadata": {},
   "outputs": [
    {
     "data": {
      "text/html": [
       "<div>\n",
       "<style scoped>\n",
       "    .dataframe tbody tr th:only-of-type {\n",
       "        vertical-align: middle;\n",
       "    }\n",
       "\n",
       "    .dataframe tbody tr th {\n",
       "        vertical-align: top;\n",
       "    }\n",
       "\n",
       "    .dataframe thead th {\n",
       "        text-align: right;\n",
       "    }\n",
       "</style>\n",
       "<table border=\"1\" class=\"dataframe\">\n",
       "  <thead>\n",
       "    <tr style=\"text-align: right;\">\n",
       "      <th></th>\n",
       "      <th>Mortgage Rate</th>\n",
       "      <th>year</th>\n",
       "      <th>month</th>\n",
       "    </tr>\n",
       "  </thead>\n",
       "  <tbody>\n",
       "    <tr>\n",
       "      <th>0</th>\n",
       "      <td>4.06</td>\n",
       "      <td>2018</td>\n",
       "      <td>5</td>\n",
       "    </tr>\n",
       "    <tr>\n",
       "      <th>1</th>\n",
       "      <td>4.02</td>\n",
       "      <td>2018</td>\n",
       "      <td>4</td>\n",
       "    </tr>\n",
       "    <tr>\n",
       "      <th>2</th>\n",
       "      <td>3.90</td>\n",
       "      <td>2018</td>\n",
       "      <td>3</td>\n",
       "    </tr>\n",
       "    <tr>\n",
       "      <th>3</th>\n",
       "      <td>3.85</td>\n",
       "      <td>2018</td>\n",
       "      <td>2</td>\n",
       "    </tr>\n",
       "    <tr>\n",
       "      <th>4</th>\n",
       "      <td>3.62</td>\n",
       "      <td>2018</td>\n",
       "      <td>1</td>\n",
       "    </tr>\n",
       "  </tbody>\n",
       "</table>\n",
       "</div>"
      ],
      "text/plain": [
       "   Mortgage Rate  year  month\n",
       "0           4.06  2018      5\n",
       "1           4.02  2018      4\n",
       "2           3.90  2018      3\n",
       "3           3.85  2018      2\n",
       "4           3.62  2018      1"
      ]
     },
     "execution_count": 8,
     "metadata": {},
     "output_type": "execute_result"
    }
   ],
   "source": [
    "ffname = os.path.join(rootdir, \"data\", \"raw\", \"FMAC-15us.csv\")\n",
    "mortgage_15_rates = pd.read_csv(ffname)\n",
    "mortgage_15_rates['year'] = pd.DatetimeIndex(mortgage_15_rates['Date']).year\n",
    "mortgage_15_rates['month'] = pd.DatetimeIndex(mortgage_15_rates['Date']).month\n",
    "mortgage_15_rates = mortgage_15_rates.rename(index=str, columns={\"Value\": \"Mortgage Rate\"})\n",
    "mortgage_15_rates = mortgage_15_rates.drop(labels=\"Date\", axis=1)\n",
    "\n",
    "output = os.path.join(rootdir, \"data\", \"int\", \"15_year_rates.csv\")\n",
    "mortgage_15_rates.to_csv(output, index=False)\n",
    "mortgage_15_rates.head()"
   ]
  },
  {
   "cell_type": "code",
   "execution_count": null,
   "metadata": {},
   "outputs": [],
   "source": []
  }
 ],
 "metadata": {
  "kernelspec": {
   "display_name": "Python [conda env:PythonData]",
   "language": "python",
   "name": "conda-env-PythonData-py"
  },
  "language_info": {
   "codemirror_mode": {
    "name": "ipython",
    "version": 3
   },
   "file_extension": ".py",
   "mimetype": "text/x-python",
   "name": "python",
   "nbconvert_exporter": "python",
   "pygments_lexer": "ipython3",
   "version": "3.6.4"
  }
 },
 "nbformat": 4,
 "nbformat_minor": 2
}
